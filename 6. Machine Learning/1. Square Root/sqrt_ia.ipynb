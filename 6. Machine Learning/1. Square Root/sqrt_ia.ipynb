{
  "nbformat": 4,
  "nbformat_minor": 0,
  "metadata": {
    "colab": {
      "provenance": [],
      "gpuType": "T4",
      "authorship_tag": "ABX9TyO0/UdlzHejhziocHkYkId4",
      "include_colab_link": true
    },
    "kernelspec": {
      "name": "python3",
      "display_name": "Python 3"
    },
    "language_info": {
      "name": "python"
    },
    "accelerator": "GPU"
  },
  "cells": [
    {
      "cell_type": "markdown",
      "metadata": {
        "id": "view-in-github",
        "colab_type": "text"
      },
      "source": [
        "<a href=\"https://colab.research.google.com/github/sechmo/IA-minirobots-2023-II/blob/master/6.%20Machine%20Learning/2.%20Square%20Root/sqrt_ia.ipynb\" target=\"_parent\"><img src=\"https://colab.research.google.com/assets/colab-badge.svg\" alt=\"Open In Colab\"/></a>"
      ]
    },
    {
      "cell_type": "markdown",
      "source": [
        "# Calculating square roots with Neural Networks"
      ],
      "metadata": {
        "id": "DZf0rv2XWL_6"
      }
    },
    {
      "cell_type": "markdown",
      "source": [
        "## Initial Setup\n",
        "\n",
        "We load pytorch to use its neural networks and optimizer and matplotlib to graph our results"
      ],
      "metadata": {
        "id": "g01rcB6pWr7Q"
      }
    },
    {
      "cell_type": "code",
      "execution_count": 40,
      "metadata": {
        "id": "iaXzLIwEVvOE"
      },
      "outputs": [],
      "source": [
        "from torch.utils.data import DataLoader, Dataset\n",
        "\n",
        "import torch\n",
        "import torch.nn as nn\n",
        "import torch.utils.data as da\n",
        "import matplotlib.pyplot as plt"
      ]
    },
    {
      "cell_type": "code",
      "source": [
        "# Checking the pytorch version being used\n",
        "torch.__version__"
      ],
      "metadata": {
        "colab": {
          "base_uri": "https://localhost:8080/",
          "height": 35
        },
        "id": "F9jpGxuAWB2S",
        "outputId": "a4dee3ee-d25b-48fc-bb5b-14d0b9361e6b"
      },
      "execution_count": 14,
      "outputs": [
        {
          "output_type": "execute_result",
          "data": {
            "text/plain": [
              "'2.1.0+cu118'"
            ],
            "application/vnd.google.colaboratory.intrinsic+json": {
              "type": "string"
            }
          },
          "metadata": {},
          "execution_count": 14
        }
      ]
    },
    {
      "cell_type": "code",
      "source": [
        "# Choosing the best available training hardware\n",
        "device = (\n",
        "    \"cuda\"\n",
        "    if torch.cuda.is_available()\n",
        "    else \"mps\"\n",
        "    if torch.backends.mps.is_available()\n",
        "    else \"cpu\"\n",
        ")\n",
        "print(f\"Using {device} device\")"
      ],
      "metadata": {
        "colab": {
          "base_uri": "https://localhost:8080/"
        },
        "id": "WCWBwJybDHAJ",
        "outputId": "8da97baa-68b4-4edc-8c55-21609cf371fa"
      },
      "execution_count": 15,
      "outputs": [
        {
          "output_type": "stream",
          "name": "stdout",
          "text": [
            "Using cuda device\n"
          ]
        }
      ]
    },
    {
      "cell_type": "markdown",
      "source": [
        "## Dataset generation\n",
        "\n",
        "As pytorch also offers a comprehensive linear algebra library (similar and somewhat compatible with numpy), we are going to use it to generate the dataset, with the extra benefit that we can preload the data to a device like a GPU and speed up training considerably. We are going to consider integer values up to 1000"
      ],
      "metadata": {
        "id": "W7WBcykTXBfX"
      }
    },
    {
      "cell_type": "code",
      "source": [
        "# A random vector for our input\n",
        "\n",
        "upper_limit = 50\n",
        "\n",
        "training_input = torch.randint(upper_limit+1,(1_000_000,1), dtype=torch.float32, device=device)\n",
        "training_output = torch.sqrt(training_input)\n",
        "\n",
        "test_input = torch.randint(upper_limit+1,(200_000,1), dtype=torch.float32, device=device)\n",
        "test_output = torch.sqrt(test_input)"
      ],
      "metadata": {
        "id": "knadN-viXCY9"
      },
      "execution_count": 16,
      "outputs": []
    },
    {
      "cell_type": "markdown",
      "source": [
        "With the generated values we can create a create the corresponding pytorch compatible dataset and data loader"
      ],
      "metadata": {
        "id": "-DxFl-KgsxQ3"
      }
    },
    {
      "cell_type": "code",
      "source": [
        "training_ds = da.TensorDataset(training_input,training_output)\n",
        "test_ds = da.TensorDataset(test_input, test_output)"
      ],
      "metadata": {
        "id": "5L0cbor6s6jh"
      },
      "execution_count": 17,
      "outputs": []
    },
    {
      "cell_type": "code",
      "source": [
        "batch_size=2024\n",
        "training_dl = da.DataLoader(training_ds, batch_size=batch_size, shuffle=True)\n",
        "test_dl = da.DataLoader(test_ds, batch_size=batch_size, shuffle=True)"
      ],
      "metadata": {
        "id": "m9p8mXE5tITd"
      },
      "execution_count": 18,
      "outputs": []
    },
    {
      "cell_type": "markdown",
      "source": [
        "## Training and testing\n",
        "\n",
        "We define some common generic functions to train our model."
      ],
      "metadata": {
        "id": "WM5JmZI4p4AK"
      }
    },
    {
      "cell_type": "code",
      "source": [
        "def train(dataloader, model, loss_fn, optimizer):\n",
        "    size = len(dataloader.dataset)\n",
        "    # Set the model to training mode - important for batch normalization and dropout layers\n",
        "    # Unnecessary in this situation but added for best practices\n",
        "    model.train()\n",
        "    for batch, (X, y) in enumerate(dataloader):\n",
        "        # Compute prediction and loss\n",
        "        pred = model(X)\n",
        "        loss = loss_fn(pred, y)\n",
        "\n",
        "        # Backpropagation\n",
        "        loss.backward()\n",
        "        optimizer.step()\n",
        "        optimizer.zero_grad()\n",
        "\n",
        "        if batch % 100 == 0:\n",
        "            loss, current = loss.item(), (batch + 1) * len(X)\n",
        "            print(f\"loss: {loss:>7f}  [{current:>5d}/{size:>5d}]\")\n",
        "\n",
        "\n",
        "def test(dataloader, model, loss_fn):\n",
        "    # Set the model to evaluation mode - important for batch normalization and dropout layers\n",
        "    # Unnecessary in this situation but added for best practices\n",
        "    model.eval()\n",
        "    size = len(dataloader.dataset)\n",
        "    num_batches = len(dataloader)\n",
        "    test_loss, correct = 0, 0\n",
        "\n",
        "    # Evaluating the model with torch.no_grad() ensures that no gradients are computed during test mode\n",
        "    # also serves to reduce unnecessary gradient computations and memory usage for tensors with requires_grad=True\n",
        "    with torch.no_grad():\n",
        "        for X, y in dataloader:\n",
        "            pred = model(X)\n",
        "            test_loss += loss_fn(pred, y).item()\n",
        "\n",
        "    test_loss /= num_batches\n",
        "    correct /= size\n",
        "    print(f\"Test Error:  Avg loss: {test_loss:>8f} \\n\")\n",
        "    return correct,test_loss"
      ],
      "metadata": {
        "id": "pTYXpPp9p-Z1"
      },
      "execution_count": 19,
      "outputs": []
    },
    {
      "cell_type": "markdown",
      "source": [
        "## The neural network\n",
        "\n",
        "Here we define our layers of neurons, we are going to use tanh activation functions, we feel the similarity with the sqrt function with help with the learning. Neurons will be usual linear layers."
      ],
      "metadata": {
        "id": "OOYeRC7CqB1I"
      }
    },
    {
      "cell_type": "code",
      "source": [
        "class SqrtNN(nn.Module):\n",
        "    def __init__(self):\n",
        "        super().__init__()\n",
        "        self.layers = nn.Sequential(\n",
        "            nn.Linear(1, 100),\n",
        "            nn.ReLU(),\n",
        "            nn.Linear(100, 50),\n",
        "            nn.ReLU(),\n",
        "            nn.Linear(50, 1)\n",
        "        )\n",
        "\n",
        "    def forward(self, x):\n",
        "        logits = self.layers(x)\n",
        "        return logits\n",
        "\n",
        "model = SqrtNN().to(device)\n",
        "print(model)"
      ],
      "metadata": {
        "colab": {
          "base_uri": "https://localhost:8080/"
        },
        "id": "wqiW2b7jqDjo",
        "outputId": "12c4d3ef-7f8e-4caf-dcc6-d9992036c0a2"
      },
      "execution_count": 20,
      "outputs": [
        {
          "output_type": "stream",
          "name": "stdout",
          "text": [
            "SqrtNN(\n",
            "  (layers): Sequential(\n",
            "    (0): Linear(in_features=1, out_features=100, bias=True)\n",
            "    (1): ReLU()\n",
            "    (2): Linear(in_features=100, out_features=50, bias=True)\n",
            "    (3): ReLU()\n",
            "    (4): Linear(in_features=50, out_features=1, bias=True)\n",
            "  )\n",
            ")\n"
          ]
        }
      ]
    },
    {
      "cell_type": "markdown",
      "source": [
        "## Metaparameters\n",
        "\n",
        "As plenty of data can be used, we will opt for a not so small learning rate, and relativele many epochs."
      ],
      "metadata": {
        "id": "3uF1_-8orCuO"
      }
    },
    {
      "cell_type": "code",
      "source": [
        "learning_rate = 1e-3\n",
        "epochs = 20"
      ],
      "metadata": {
        "id": "gnv3u7PXrrJ0"
      },
      "execution_count": 21,
      "outputs": []
    },
    {
      "cell_type": "markdown",
      "source": [
        "Backpropagation pptimization will be done with Stochastic gradient descent."
      ],
      "metadata": {
        "id": "Yi6zIFrmrre6"
      }
    },
    {
      "cell_type": "code",
      "source": [
        "optimizer = torch.optim.SGD(model.parameters(), lr = learning_rate)"
      ],
      "metadata": {
        "id": "3zGL7svrsAmF"
      },
      "execution_count": 22,
      "outputs": []
    },
    {
      "cell_type": "markdown",
      "source": [
        "Loss will be measured with absolute error"
      ],
      "metadata": {
        "id": "PTHXb7NxsL6n"
      }
    },
    {
      "cell_type": "code",
      "source": [
        "loss_fn = nn.L1Loss()"
      ],
      "metadata": {
        "id": "TlzzXsQwsTzy"
      },
      "execution_count": 23,
      "outputs": []
    },
    {
      "cell_type": "markdown",
      "source": [
        "## Training"
      ],
      "metadata": {
        "id": "-9MnLpjYspZ_"
      }
    },
    {
      "cell_type": "code",
      "source": [
        "accuracies = []\n",
        "losses = []\n",
        "for t in range(epochs):\n",
        "    print(f\"Epoch {t+1}\\n-------------------------------\")\n",
        "    train(training_dl, model, loss_fn, optimizer)\n",
        "    acc, loss = test(test_dl, model, loss_fn)\n",
        "    accuracies.append(acc)\n",
        "    losses.append(loss)\n",
        "print(\"Done!\")"
      ],
      "metadata": {
        "colab": {
          "base_uri": "https://localhost:8080/"
        },
        "id": "1wpPLuz5sq9P",
        "outputId": "cb444281-6538-46b6-a391-eaf0b3f970a4"
      },
      "execution_count": 24,
      "outputs": [
        {
          "output_type": "stream",
          "name": "stdout",
          "text": [
            "Epoch 1\n",
            "-------------------------------\n",
            "loss: 4.971354  [ 2024/1000000]\n",
            "loss: 0.912748  [204424/1000000]\n",
            "loss: 0.689743  [406824/1000000]\n",
            "loss: 0.622721  [609224/1000000]\n",
            "loss: 0.735611  [811624/1000000]\n",
            "Test Error: \n",
            " Accuracy: 0.0%, Avg loss: 0.503360 \n",
            "\n",
            "Epoch 2\n",
            "-------------------------------\n",
            "loss: 0.514840  [ 2024/1000000]\n",
            "loss: 0.510010  [204424/1000000]\n"
          ]
        },
        {
          "output_type": "stream",
          "name": "stderr",
          "text": [
            "Exception ignored in: <function _xla_gc_callback at 0x7dadc1ecd870>\n",
            "Traceback (most recent call last):\n",
            "  File \"/usr/local/lib/python3.10/dist-packages/jax/_src/lib/__init__.py\", line 101, in _xla_gc_callback\n",
            "    def _xla_gc_callback(*args):\n",
            "KeyboardInterrupt: \n"
          ]
        },
        {
          "output_type": "stream",
          "name": "stdout",
          "text": [
            "loss: 0.487546  [406824/1000000]\n",
            "loss: 0.483104  [609224/1000000]\n",
            "loss: 0.448917  [811624/1000000]\n",
            "Test Error: \n",
            " Accuracy: 0.0%, Avg loss: 0.738758 \n",
            "\n",
            "Epoch 3\n",
            "-------------------------------\n",
            "loss: 0.726906  [ 2024/1000000]\n",
            "loss: 0.718439  [204424/1000000]\n",
            "loss: 0.642680  [406824/1000000]\n",
            "loss: 0.539657  [609224/1000000]\n",
            "loss: 0.607521  [811624/1000000]\n",
            "Test Error: \n",
            " Accuracy: 0.0%, Avg loss: 0.344318 \n",
            "\n",
            "Epoch 4\n",
            "-------------------------------\n",
            "loss: 0.338736  [ 2024/1000000]\n",
            "loss: 0.389750  [204424/1000000]\n",
            "loss: 0.390629  [406824/1000000]\n",
            "loss: 0.391278  [609224/1000000]\n",
            "loss: 0.362353  [811624/1000000]\n",
            "Test Error: \n",
            " Accuracy: 0.0%, Avg loss: 0.565936 \n",
            "\n",
            "Epoch 5\n",
            "-------------------------------\n",
            "loss: 0.554294  [ 2024/1000000]\n",
            "loss: 0.497438  [204424/1000000]\n",
            "loss: 0.603664  [406824/1000000]\n",
            "loss: 0.525373  [609224/1000000]\n",
            "loss: 0.529882  [811624/1000000]\n",
            "Test Error: \n",
            " Accuracy: 0.0%, Avg loss: 0.408950 \n",
            "\n",
            "Epoch 6\n",
            "-------------------------------\n",
            "loss: 0.409478  [ 2024/1000000]\n",
            "loss: 0.352057  [204424/1000000]\n",
            "loss: 0.345892  [406824/1000000]\n",
            "loss: 0.371744  [609224/1000000]\n",
            "loss: 0.403363  [811624/1000000]\n",
            "Test Error: \n",
            " Accuracy: 0.0%, Avg loss: 0.312090 \n",
            "\n",
            "Epoch 7\n",
            "-------------------------------\n",
            "loss: 0.306546  [ 2024/1000000]\n",
            "loss: 0.400451  [204424/1000000]\n",
            "loss: 0.403945  [406824/1000000]\n",
            "loss: 0.528185  [609224/1000000]\n",
            "loss: 0.352315  [811624/1000000]\n",
            "Test Error: \n",
            " Accuracy: 0.0%, Avg loss: 0.404786 \n",
            "\n",
            "Epoch 8\n",
            "-------------------------------\n",
            "loss: 0.402924  [ 2024/1000000]\n",
            "loss: 0.292297  [204424/1000000]\n",
            "loss: 0.289708  [406824/1000000]\n",
            "loss: 0.375370  [609224/1000000]\n",
            "loss: 0.268052  [811624/1000000]\n",
            "Test Error: \n",
            " Accuracy: 0.0%, Avg loss: 0.390352 \n",
            "\n",
            "Epoch 9\n",
            "-------------------------------\n",
            "loss: 0.379964  [ 2024/1000000]\n",
            "loss: 0.494396  [204424/1000000]\n",
            "loss: 0.367269  [406824/1000000]\n",
            "loss: 0.436012  [609224/1000000]\n",
            "loss: 0.437443  [811624/1000000]\n",
            "Test Error: \n",
            " Accuracy: 0.0%, Avg loss: 0.374058 \n",
            "\n",
            "Epoch 10\n",
            "-------------------------------\n",
            "loss: 0.372690  [ 2024/1000000]\n",
            "loss: 0.435709  [204424/1000000]\n",
            "loss: 0.324037  [406824/1000000]\n",
            "loss: 0.459248  [609224/1000000]\n",
            "loss: 0.301236  [811624/1000000]\n",
            "Test Error: \n",
            " Accuracy: 0.0%, Avg loss: 0.401738 \n",
            "\n",
            "Epoch 11\n",
            "-------------------------------\n",
            "loss: 0.411002  [ 2024/1000000]\n",
            "loss: 0.375815  [204424/1000000]\n",
            "loss: 0.376337  [406824/1000000]\n",
            "loss: 0.367516  [609224/1000000]\n",
            "loss: 0.336860  [811624/1000000]\n",
            "Test Error: \n",
            " Accuracy: 0.0%, Avg loss: 0.503758 \n",
            "\n",
            "Epoch 12\n",
            "-------------------------------\n",
            "loss: 0.498982  [ 2024/1000000]\n",
            "loss: 0.365591  [204424/1000000]\n",
            "loss: 0.439954  [406824/1000000]\n",
            "loss: 0.413781  [609224/1000000]\n",
            "loss: 0.352058  [811624/1000000]\n",
            "Test Error: \n",
            " Accuracy: 0.0%, Avg loss: 0.319379 \n",
            "\n",
            "Epoch 13\n",
            "-------------------------------\n",
            "loss: 0.319468  [ 2024/1000000]\n",
            "loss: 0.452876  [204424/1000000]\n",
            "loss: 0.419895  [406824/1000000]\n",
            "loss: 0.342503  [609224/1000000]\n",
            "loss: 0.315109  [811624/1000000]\n",
            "Test Error: \n",
            " Accuracy: 0.0%, Avg loss: 0.331936 \n",
            "\n",
            "Epoch 14\n",
            "-------------------------------\n",
            "loss: 0.337434  [ 2024/1000000]\n",
            "loss: 0.376802  [204424/1000000]\n",
            "loss: 0.306191  [406824/1000000]\n",
            "loss: 0.467925  [609224/1000000]\n",
            "loss: 0.376276  [811624/1000000]\n",
            "Test Error: \n",
            " Accuracy: 0.0%, Avg loss: 0.433788 \n",
            "\n",
            "Epoch 15\n",
            "-------------------------------\n",
            "loss: 0.428048  [ 2024/1000000]\n",
            "loss: 0.395247  [204424/1000000]\n",
            "loss: 0.345796  [406824/1000000]\n",
            "loss: 0.330898  [609224/1000000]\n",
            "loss: 0.355164  [811624/1000000]\n",
            "Test Error: \n",
            " Accuracy: 0.0%, Avg loss: 0.445205 \n",
            "\n",
            "Epoch 16\n",
            "-------------------------------\n",
            "loss: 0.447361  [ 2024/1000000]\n",
            "loss: 0.467945  [204424/1000000]\n",
            "loss: 0.374277  [406824/1000000]\n",
            "loss: 0.385092  [609224/1000000]\n",
            "loss: 0.320554  [811624/1000000]\n",
            "Test Error: \n",
            " Accuracy: 0.0%, Avg loss: 0.353809 \n",
            "\n",
            "Epoch 17\n",
            "-------------------------------\n",
            "loss: 0.357421  [ 2024/1000000]\n",
            "loss: 0.257638  [204424/1000000]\n",
            "loss: 0.267691  [406824/1000000]\n",
            "loss: 0.299623  [609224/1000000]\n",
            "loss: 0.496056  [811624/1000000]\n",
            "Test Error: \n",
            " Accuracy: 0.0%, Avg loss: 0.379006 \n",
            "\n",
            "Epoch 18\n",
            "-------------------------------\n",
            "loss: 0.374726  [ 2024/1000000]\n",
            "loss: 0.506520  [204424/1000000]\n",
            "loss: 0.375435  [406824/1000000]\n",
            "loss: 0.462251  [609224/1000000]\n",
            "loss: 0.358240  [811624/1000000]\n",
            "Test Error: \n",
            " Accuracy: 0.0%, Avg loss: 0.241680 \n",
            "\n",
            "Epoch 19\n",
            "-------------------------------\n",
            "loss: 0.242984  [ 2024/1000000]\n",
            "loss: 0.287000  [204424/1000000]\n",
            "loss: 0.369605  [406824/1000000]\n",
            "loss: 0.387553  [609224/1000000]\n",
            "loss: 0.246362  [811624/1000000]\n",
            "Test Error: \n",
            " Accuracy: 0.0%, Avg loss: 0.516386 \n",
            "\n",
            "Epoch 20\n",
            "-------------------------------\n",
            "loss: 0.521451  [ 2024/1000000]\n",
            "loss: 0.343794  [204424/1000000]\n",
            "loss: 0.278427  [406824/1000000]\n",
            "loss: 0.517560  [609224/1000000]\n",
            "loss: 0.394298  [811624/1000000]\n",
            "Test Error: \n",
            " Accuracy: 0.0%, Avg loss: 0.271367 \n",
            "\n",
            "Done!\n"
          ]
        }
      ]
    },
    {
      "cell_type": "markdown",
      "source": [
        "## Results"
      ],
      "metadata": {
        "id": "5rkrfiieAb3I"
      }
    },
    {
      "cell_type": "code",
      "source": [
        "with torch.no_grad():\n",
        "  simple_test = torch.reshape(torch.arange(upper_limit,dtype=torch.float32,device=device), (upper_limit,1))\n",
        "  model_result = model(simple_test)\n",
        "  actual_result = torch.sqrt(simple_test)\n",
        "  simple_test = simple_test.cpu().numpy()\n",
        "  model_result = model_result.cpu().numpy()\n",
        "  actual_result = actual_result.cpu().numpy()\n",
        "\n",
        "  plt.plot(simple_test,actual_result,'o',label=\"Valor real\")\n",
        "  plt.plot(simple_test, model_result, '+', label=\"Valor predecido\")\n",
        "  plt.legend()\n",
        "  plt.title(\"Valores reales vs predecidos\")"
      ],
      "metadata": {
        "colab": {
          "base_uri": "https://localhost:8080/",
          "height": 452
        },
        "id": "ur-pq94b1Fzi",
        "outputId": "bb7927f7-5868-4f42-f32e-67dad1e3ea48"
      },
      "execution_count": 56,
      "outputs": [
        {
          "output_type": "display_data",
          "data": {
            "text/plain": [
              "<Figure size 640x480 with 1 Axes>"
            ],
            "image/png": "[encoded data removed]"
          },
          "metadata": {}
        }
      ]
    },
    {
      "cell_type": "markdown",
      "source": [
        "The model got pretty close to mos numbers, particularly those on the range between 15 and 25, however deviation is noticeable after 30, the model struggles with bigger numbers."
      ],
      "metadata": {
        "id": "LU2q4tEwAhAF"
      }
    }
  ]
}