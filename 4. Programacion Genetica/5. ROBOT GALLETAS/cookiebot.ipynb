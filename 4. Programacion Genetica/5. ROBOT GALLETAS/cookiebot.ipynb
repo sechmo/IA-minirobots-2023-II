{
 "cells": [
  {
   "cell_type": "markdown",
   "metadata": {},
   "source": [
    "# Robot entrega galletas"
   ]
  },
  {
   "cell_type": "markdown",
   "metadata": {},
   "source": [
    "Vamos a crear por programación genética un robot que entregue la mayor cantidad posible de galletas a los ingenieros en cierto numero de movimientos"
   ]
  },
  {
   "cell_type": "code",
   "execution_count": 1,
   "metadata": {},
   "outputs": [],
   "source": [
    "import random\n",
    "from deap import base, creator, tools, algorithms"
   ]
  },
  {
   "cell_type": "markdown",
   "metadata": {},
   "source": [
    "## Parámetros"
   ]
  },
  {
   "cell_type": "markdown",
   "metadata": {},
   "source": [
    "Definimos el tamaño de la sala, el número de ingenieros, y la cantidad máxima de movimientos"
   ]
  },
  {
   "cell_type": "code",
   "execution_count": 2,
   "metadata": {},
   "outputs": [],
   "source": [
    "# Definiciones básicas\n",
    "GRID_SIZE = 10  # Tamaño de la sala\n",
    "NUM_ENGINEERS = 5  # Número de ingenieros\n",
    "MAX_STEPS = 50  # Número máximo de pasos en el programa"
   ]
  },
  {
   "cell_type": "markdown",
   "metadata": {},
   "source": [
    "Generamos las posiciónes de los ingenieros, el robot empieza en la esquina"
   ]
  },
  {
   "cell_type": "code",
   "execution_count": 3,
   "metadata": {},
   "outputs": [],
   "source": [
    "# Posiciones iniciales\n",
    "initial_robot_pos = (0, 0)\n",
    "engineers_positions = {(random.randint(0, GRID_SIZE - 1), random.randint(0, GRID_SIZE - 1)) for _ in range(NUM_ENGINEERS)}"
   ]
  },
  {
   "cell_type": "markdown",
   "metadata": {},
   "source": [
    "# Movimiento\n",
    "\n",
    "Definimos instrucciones para cada tipo de movimiento y para evaluar un individuo en particular, esta es nuestra función de fitness. Evalua cuantas galletas entregamos."
   ]
  },
  {
   "cell_type": "code",
   "execution_count": 4,
   "metadata": {},
   "outputs": [],
   "source": [
    "# Instrucciones para el movimiento del robot\n",
    "def move_north(pos): return max(pos[0] - 1, 0), pos[1]\n",
    "def move_south(pos): return min(pos[0] + 1, GRID_SIZE - 1), pos[1]\n",
    "def move_east(pos): return pos[0], min(pos[1] + 1, GRID_SIZE - 1)\n",
    "def move_west(pos): return pos[0], max(pos[1] - 1, 0)\n",
    "\n",
    "INSTRUCTIONS = [move_north, move_south, move_east, move_west]\n",
    "\n",
    "# Función de aptitud\n",
    "def evaluate(individual):\n",
    "    robot_pos = initial_robot_pos\n",
    "    points = 0\n",
    "    delivered = set()\n",
    "\n",
    "    for gene in individual:\n",
    "        robot_pos = INSTRUCTIONS[gene](robot_pos)\n",
    "        if robot_pos in engineers_positions and robot_pos not in delivered:\n",
    "            points += 1\n",
    "            delivered.add(robot_pos)\n",
    "\n",
    "    return points,"
   ]
  },
  {
   "cell_type": "markdown",
   "metadata": {},
   "source": [
    "## Estrategia de evolución"
   ]
  },
  {
   "cell_type": "code",
   "execution_count": 5,
   "metadata": {},
   "outputs": [],
   "source": [
    "# Configuración de DEAP para Programación Genética\n",
    "creator.create(\"FitnessMax\", base.Fitness, weights=(1.0,))\n",
    "creator.create(\"Individual\", list, fitness=creator.FitnessMax)\n",
    "\n",
    "toolbox = base.Toolbox()\n",
    "# Cada movimiento se representa con un entero\n",
    "toolbox.register(\"attr_int\", random.randint, 0, len(INSTRUCTIONS)-1)\n",
    "# Los individuos tienne n movimientos\n",
    "toolbox.register(\"individual\", tools.initRepeat, creator.Individual, toolbox.attr_int, n=MAX_STEPS)\n",
    "# La poblacion es una lista de individuos\n",
    "toolbox.register(\"population\", tools.initRepeat, list, toolbox.individual)\n",
    "# La evaluación es la definida previamente\n",
    "toolbox.register(\"evaluate\", evaluate)\n",
    "# El cruce es a partir de un punto aleatorio y mezcla de dos padres\n",
    "toolbox.register(\"mate\", tools.cxTwoPoint)\n",
    "# La mutación altera los movimientos\n",
    "toolbox.register(\"mutate\", tools.mutUniformInt, low=0, up=len(INSTRUCTIONS)-1, indpb=0.1)\n",
    "# La seleción se da por método de torneo\n",
    "toolbox.register(\"select\", tools.selTournament, tournsize=3)"
   ]
  },
  {
   "cell_type": "markdown",
   "metadata": {},
   "source": [
    "## Loop de evolución"
   ]
  },
  {
   "cell_type": "markdown",
   "metadata": {},
   "source": [
    "Parametros del algoritmo"
   ]
  },
  {
   "cell_type": "code",
   "execution_count": 6,
   "metadata": {},
   "outputs": [],
   "source": [
    "# Tamaño de la población\n",
    "POPSIZE = 300\n",
    "# Número de generaciones\n",
    "NGEN = 40\n",
    "# Probabilidad de cruce\n",
    "CXPB = 0.5\n",
    "# Probabilidad de mutación\n",
    "MUTPB = 0.2"
   ]
  },
  {
   "cell_type": "markdown",
   "metadata": {},
   "source": [
    "Ahora corremos nuestro algoritmo y elegimos el mejor individuo de la ultima generación"
   ]
  },
  {
   "cell_type": "code",
   "execution_count": 7,
   "metadata": {},
   "outputs": [
    {
     "name": "stdout",
     "output_type": "stream",
     "text": [
      "Mejor individuo(fitness = (5.0,)):\n",
      "\tmove west\n",
      "\tmove west\n",
      "\tmove east\n",
      "\tmove east\n",
      "\tmove south\n",
      "\tmove south\n",
      "\tmove west\n",
      "\tmove east\n",
      "\tmove west\n",
      "\tmove south\n",
      "\tmove west\n",
      "\tmove south\n",
      "\tmove west\n",
      "\tmove east\n",
      "\tmove south\n",
      "\tmove south\n",
      "\tmove south\n",
      "\tmove west\n",
      "\tmove south\n",
      "\tmove south\n",
      "\tmove north\n",
      "\tmove west\n",
      "\tmove west\n",
      "\tmove east\n",
      "\tmove east\n",
      "\tmove south\n",
      "\tmove west\n",
      "\tmove east\n",
      "\tmove east\n",
      "\tmove east\n",
      "\tmove west\n",
      "\tmove east\n",
      "\tmove north\n",
      "\tmove east\n",
      "\tmove south\n",
      "\tmove west\n",
      "\tmove north\n",
      "\tmove south\n",
      "\tmove east\n",
      "\tmove east\n",
      "\tmove west\n",
      "\tmove south\n",
      "\tmove east\n",
      "\tmove south\n",
      "\tmove north\n",
      "\tmove east\n",
      "\tmove east\n",
      "\tmove east\n",
      "\tmove east\n",
      "\tmove north\n"
     ]
    }
   ],
   "source": [
    "# Crear población inicial\n",
    "population = toolbox.population(n=POPSIZE)\n",
    "\n",
    "for gen in range(NGEN):\n",
    "    offspring = algorithms.varAnd(population, toolbox, CXPB, MUTPB)\n",
    "    for ind in offspring:\n",
    "        ind.fitness.values = toolbox.evaluate(ind)\n",
    "    population = toolbox.select(offspring, k=len(population))\n",
    "\n",
    "# Seleccionar los mejores individuos\n",
    "top_individual = tools.selBest(population, k=1)[0]\n",
    "\n",
    "# Mostrar el mejor individuo y su puntuación\n",
    "print(f\"Mejor individuo(fitness = {top_individual.fitness.values}):\")\n",
    "movs = [\"move north\", \"move south\", \"move east\", \"move west\"]\n",
    "for m in top_individual:\n",
    "   print(f\"\\t{movs[m]}\")"
   ]
  },
  {
   "cell_type": "markdown",
   "metadata": {},
   "source": [
    "# Visualización de resultados"
   ]
  },
  {
   "cell_type": "code",
   "execution_count": 10,
   "metadata": {},
   "outputs": [
    {
     "data": {
      "image/png": "[encoded data removed]",
      "text/plain": [
       "<Figure size 640x480 with 1 Axes>"
      ]
     },
     "metadata": {},
     "output_type": "display_data"
    }
   ],
   "source": [
    "import matplotlib.pyplot as plt\n",
    "import matplotlib.patches as patches\n",
    "import matplotlib.colors as mcolors\n",
    "\n",
    "\n",
    "def plot_robot_movements(individual, grid_size, engineers_positions, initial_robot_pos):\n",
    "    \"\"\"\n",
    "    Plotea los movimientos del robot basados en un individuo del algoritmo genético.\n",
    "\n",
    "    :param individual: Secuencia de instrucciones (individuo) a evaluar.\n",
    "    :param grid_size: Tamaño de la cuadrícula.\n",
    "    :param engineers_positions: Conjunto de posiciones de los ingenieros.\n",
    "    :param initial_robot_pos: Posición inicial del robot.\n",
    "    \"\"\"\n",
    "\n",
    "    INSTRUCTIONS = [move_north, move_south, move_east, move_west]\n",
    "\n",
    "    # Inicializa la posición del robot y prepara la traza de su movimiento\n",
    "    robot_pos = initial_robot_pos\n",
    "    path_x, path_y = [robot_pos[1]], [robot_pos[0]]  # Invertimos x y y para el plot\n",
    "\n",
    "    # Ejecuta el programa (individuo)\n",
    "    for gene in individual:\n",
    "        robot_pos = INSTRUCTIONS[gene](robot_pos)\n",
    "        path_x.append(robot_pos[1])\n",
    "        path_y.append(robot_pos[0])\n",
    "\n",
    "    # Crear plot\n",
    "    fig, ax = plt.subplots()\n",
    "\n",
    "    # Dibujar la cuadrícula\n",
    "    for x in range(grid_size + 1):\n",
    "        ax.axhline(x, lw=1, color=\"black\", zorder=0)\n",
    "        ax.axvline(x, lw=1, color=\"black\", zorder=0)\n",
    "\n",
    "    # Dibujar los ingenieros\n",
    "    colors = list(mcolors.TABLEAU_COLORS.values())  # Lista de colores únicos\n",
    "    engineer_colors = {\n",
    "        pos: colors[i % len(colors)] for i, pos in enumerate(engineers_positions)\n",
    "    }\n",
    "    for i, (pos, color) in enumerate(engineer_colors.items()):\n",
    "        eng = patches.Circle(\n",
    "            (pos[1], pos[0]),\n",
    "            radius=0.2,\n",
    "            linewidth=1,\n",
    "            color=color,\n",
    "            fill=True,\n",
    "            label=f\"Ing {i}\",\n",
    "        )\n",
    "        ax.add_patch(eng)\n",
    "\n",
    "    # Dibujar el camino del robot\n",
    "    #  ax.plot(path_x, path_y, color='blue', linewidth=2, marker='o', markersize=5)\n",
    "    num_points = len(path_x) - 1\n",
    "    for i in range(num_points):\n",
    "        ax.plot(\n",
    "            path_x[i : i + 2],\n",
    "            path_y[i : i + 2],\n",
    "            color=plt.cm.viridis(i / num_points),\n",
    "            linewidth=2,\n",
    "        )\n",
    "   \n",
    "\n",
    "    # Configurar límites y etiquetas\n",
    "    ax.set_xlim(0, grid_size)\n",
    "    ax.set_ylim(0, grid_size)\n",
    "    ax.set_xlabel(\"X\")\n",
    "    ax.set_ylabel(\"Y\")\n",
    "    ax.set_title(\"Movimientos del Robot\")\n",
    "\n",
    "    ax.legend()\n",
    "\n",
    "    plt.gca().invert_yaxis()  # Invertir el eje Y para que coincida con la lógica de coordenadas\n",
    "    plt.show()\n",
    "\n",
    "\n",
    "# Ejemplo de uso:\n",
    "# Suponiendo que tenemos un individuo (secuencia de instrucciones)\n",
    "# example_individual = [0, 0, 3, 2, 2, 1, 1, 1, 0, 0]  # Esta secuencia es arbitraria\n",
    "\n",
    "# Llamar a la función para visualizar los movimientos\n",
    "plot_robot_movements(top_individual, GRID_SIZE, engineers_positions, initial_robot_pos)"
   ]
  },
  {
   "cell_type": "markdown",
   "metadata": {},
   "source": [
    "Podemos visualizar el camino de nuestro robot que y como alcanza a los ingenieros"
   ]
  }
 ],
 "metadata": {
  "kernelspec": {
   "display_name": "Python 3 (ipykernel)",
   "language": "python",
   "name": "python3"
  },
  "language_info": {
   "codemirror_mode": {
    "name": "ipython",
    "version": 3
   },
   "file_extension": ".py",
   "mimetype": "text/x-python",
   "name": "python",
   "nbconvert_exporter": "python",
   "pygments_lexer": "ipython3",
   "version": "3.11.6"
  }
 },
 "nbformat": 4,
 "nbformat_minor": 4
}
